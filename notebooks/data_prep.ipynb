{
 "cells": [
  {
   "cell_type": "markdown",
   "id": "0a8cb22b-75a2-4201-8280-022d02adcf73",
   "metadata": {},
   "source": [
    "# Data Preparation\n",
    "\n",
    "This notebook loads and cleans raw NBA player, team, and All-Star selection data to prepare it for modeling. It resolves inconsistencies across data sources, removes or corrects problematic rows, and merges season-level statistics into a single, clean dataset. \n",
    "\n",
    "At the end, this notebook outputs:\n",
    "- `X_data.pkl`: cleaned feature dataset for modeling\n",
    "- `y_data.pkl`: binary target variable indicating All-Star selection\n",
    "- `clean_data_reference.csv`: full combined dataset for manual review"
   ]
  },
  {
   "cell_type": "code",
   "execution_count": 1,
   "id": "initial_id",
   "metadata": {
    "ExecuteTime": {
     "end_time": "2025-05-10T19:32:57.700981Z",
     "start_time": "2025-05-10T19:32:57.479638Z"
    }
   },
   "outputs": [],
   "source": [
    "import pandas as pd\n",
    "from collections import defaultdict"
   ]
  },
  {
   "cell_type": "code",
   "execution_count": 2,
   "id": "9481b1e3330a5aa6",
   "metadata": {
    "ExecuteTime": {
     "end_time": "2025-05-10T19:32:58.934828Z",
     "start_time": "2025-05-10T19:32:58.931731Z"
    }
   },
   "outputs": [],
   "source": [
    "# define columns to use from our raw data\n",
    "player_cols = [\n",
    "    \"season\", \"player_id\", \"player\", \"experience\", \"tm\", \"g\", \"mp\", \"x3p\",\"x3pa\",\n",
    "    \"x2p\", \"x2pa\", \"ft\", \"fta\", \"orb\", \"drb\", \"ast\", \"stl\", \"blk\", \"pts\"\n",
    "]\n",
    "team_cols = [\"season\", \"abbreviation\", \"w\", \"l\"]\n",
    "all_star_cols = [\"player\", \"season\"]"
   ]
  },
  {
   "cell_type": "code",
   "execution_count": 3,
   "id": "c7f5c2d497d87b53",
   "metadata": {
    "ExecuteTime": {
     "end_time": "2025-05-10T19:33:00.875514Z",
     "start_time": "2025-05-10T19:33:00.832970Z"
    }
   },
   "outputs": [],
   "source": [
    "# load csv data\n",
    "players = pd.read_csv(\"../data/raw/Player Totals.csv\", usecols=player_cols)\n",
    "teams = pd.read_csv(\"../data/raw/Team Summaries.csv\", usecols=team_cols)\n",
    "all_stars = pd.read_csv(\"../data/raw/All-Star Selections.csv\", usecols=all_star_cols)\n",
    "\n",
    "# filter out 2025 (data doesn't include 2025 all-star selections) and pre-merger era\n",
    "players = players[(players[\"season\"] >= 1977) & (players[\"season\"] < 2025)]\n",
    "teams = teams[(teams[\"season\"] >= 1977) & (teams[\"season\"] < 2025)]\n",
    "all_stars = all_stars[(all_stars[\"season\"] >= 1977) & (all_stars[\"season\"] < 2025)]"
   ]
  },
  {
   "cell_type": "code",
   "execution_count": 4,
   "id": "cc1bcbffff075718",
   "metadata": {
    "ExecuteTime": {
     "end_time": "2025-05-10T19:33:03.381354Z",
     "start_time": "2025-05-10T19:33:03.373225Z"
    }
   },
   "outputs": [
    {
     "name": "stdout",
     "output_type": "stream",
     "text": [
      "<class 'pandas.core.frame.DataFrame'>\n",
      "Index: 24955 entries, 719 to 25673\n",
      "Data columns (total 19 columns):\n",
      " #   Column      Non-Null Count  Dtype  \n",
      "---  ------      --------------  -----  \n",
      " 0   season      24955 non-null  int64  \n",
      " 1   player_id   24951 non-null  float64\n",
      " 2   player      24955 non-null  object \n",
      " 3   experience  24955 non-null  float64\n",
      " 4   tm          24955 non-null  object \n",
      " 5   g           24955 non-null  int64  \n",
      " 6   mp          24955 non-null  float64\n",
      " 7   x3p         23880 non-null  float64\n",
      " 8   x3pa        23880 non-null  float64\n",
      " 9   x2p         24955 non-null  int64  \n",
      " 10  x2pa        24955 non-null  int64  \n",
      " 11  ft          24955 non-null  int64  \n",
      " 12  fta         24955 non-null  int64  \n",
      " 13  orb         24955 non-null  float64\n",
      " 14  drb         24955 non-null  float64\n",
      " 15  ast         24955 non-null  int64  \n",
      " 16  stl         24955 non-null  float64\n",
      " 17  blk         24955 non-null  float64\n",
      " 18  pts         24955 non-null  int64  \n",
      "dtypes: float64(9), int64(8), object(2)\n",
      "memory usage: 3.8+ MB\n"
     ]
    }
   ],
   "source": [
    "players.info()"
   ]
  },
  {
   "cell_type": "code",
   "execution_count": 5,
   "id": "93afc5ba8dec3ead",
   "metadata": {
    "ExecuteTime": {
     "end_time": "2025-05-10T19:33:04.922406Z",
     "start_time": "2025-05-10T19:33:04.917569Z"
    }
   },
   "outputs": [
    {
     "name": "stdout",
     "output_type": "stream",
     "text": [
      "<class 'pandas.core.frame.DataFrame'>\n",
      "Index: 1368 entries, 31 to 1398\n",
      "Data columns (total 4 columns):\n",
      " #   Column        Non-Null Count  Dtype  \n",
      "---  ------        --------------  -----  \n",
      " 0   season        1368 non-null   int64  \n",
      " 1   abbreviation  1320 non-null   object \n",
      " 2   w             1320 non-null   float64\n",
      " 3   l             1320 non-null   float64\n",
      "dtypes: float64(2), int64(1), object(1)\n",
      "memory usage: 53.4+ KB\n"
     ]
    }
   ],
   "source": [
    "teams.info()"
   ]
  },
  {
   "cell_type": "code",
   "execution_count": 6,
   "id": "6782da49a1de5cdf",
   "metadata": {
    "ExecuteTime": {
     "end_time": "2025-05-10T19:33:05.776838Z",
     "start_time": "2025-05-10T19:33:05.771930Z"
    }
   },
   "outputs": [
    {
     "name": "stdout",
     "output_type": "stream",
     "text": [
      "<class 'pandas.core.frame.DataFrame'>\n",
      "Index: 1202 entries, 0 to 1201\n",
      "Data columns (total 2 columns):\n",
      " #   Column  Non-Null Count  Dtype \n",
      "---  ------  --------------  ----- \n",
      " 0   player  1202 non-null   object\n",
      " 1   season  1202 non-null   int64 \n",
      "dtypes: int64(1), object(1)\n",
      "memory usage: 28.2+ KB\n"
     ]
    }
   ],
   "source": [
    "all_stars.info()"
   ]
  },
  {
   "cell_type": "markdown",
   "id": "c4ab084ba4cab23f",
   "metadata": {},
   "source": [
    "### Basic Cleaning and Typecasting\n",
    "\n",
    "We begin by addressing missing values and ensuring appropriate data types for modeling. This includes dropping problematic rows, filling nulls, and converting numeric columns to integers."
   ]
  },
  {
   "cell_type": "code",
   "execution_count": 7,
   "id": "cba51efa51eb77f6",
   "metadata": {
    "ExecuteTime": {
     "end_time": "2025-05-10T19:13:58.041400Z",
     "start_time": "2025-05-10T19:13:58.026554Z"
    }
   },
   "outputs": [
    {
     "data": {
      "text/plain": [
       "(np.int64(0), np.int64(0), np.int64(0))"
      ]
     },
     "execution_count": 7,
     "metadata": {},
     "output_type": "execute_result"
    }
   ],
   "source": [
    "# drop rows with select missing data\n",
    "players = players.dropna(subset=[\"player_id\"])\n",
    "teams = teams.dropna()\n",
    "\n",
    "# fill NaN with 0\n",
    "players['x3p'] = players['x3p'].fillna(0)\n",
    "players['x3pa'] = players['x3pa'].fillna(0)\n",
    "\n",
    "# convert columns to int\n",
    "player_int_cols = ['player_id', 'experience', 'g', 'x3p', 'x3pa', 'x2p', 'x2pa', 'ft', 'fta', 'orb', 'drb', 'ast', 'stl', 'blk', 'pts']\n",
    "players[player_int_cols] = players[player_int_cols].astype('int')\n",
    "teams[['w', 'l']] = teams[['w', 'l']].astype('int')\n",
    "\n",
    "# check for remaining nan values\n",
    "players.isnull().sum().sum(), teams.isnull().sum().sum(), all_stars.isnull().sum().sum()"
   ]
  },
  {
   "cell_type": "markdown",
   "id": "c8ef172cdc4c1bd8",
   "metadata": {},
   "source": [
    "### Consolidating Multi-Team Player-Seasons\n",
    "\n",
    "Players who changed teams mid-season appear multiple times in the player dataset. These rows must be merged for accurate analysis:\n",
    "- We assign the team with the most games played as the player's primary team.\n",
    "- We keep only the total stat row for that player-season (labeled as `TOT`), retaining the one with the highest minutes played."
   ]
  },
  {
   "cell_type": "code",
   "execution_count": 8,
   "id": "784a7a36e52e0110",
   "metadata": {
    "ExecuteTime": {
     "end_time": "2025-05-10T19:14:08.244382Z",
     "start_time": "2025-05-10T19:14:07.338408Z"
    }
   },
   "outputs": [],
   "source": [
    "# create a dictionary of teams and games played by player-season\n",
    "player_team_data = defaultdict(lambda: defaultdict(list))\n",
    "for _, row in players.iterrows():\n",
    "    if row[\"tm\"] == \"TOT\":\n",
    "        continue  # skip totaled rows\n",
    "    season = row[\"season\"]\n",
    "    player_id = row[\"player_id\"]\n",
    "    tm = row[\"tm\"]\n",
    "    g = row[\"g\"]\n",
    "\n",
    "    player_team_data[season][player_id].append({\"tm\": tm, \"g\": g})\n",
    "\n",
    "# set primary team in any player-season aggregated rows (total rows for players who had multiple teams in a season)\n",
    "for idx, row in players.iterrows():\n",
    "    if row[\"tm\"] == \"TOT\":\n",
    "        primary_tm = max(player_team_data[row[\"season\"]][row[\"player_id\"]], key=lambda x: x[\"g\"])[\"tm\"]\n",
    "        players.loc[idx, \"tm\"] = primary_tm\n",
    "\n",
    "# keep only the total row for player-seasons with multiple entries (keeping row with the highest minutes played)\n",
    "players = players.loc[players.groupby([\"player_id\", \"season\"])[\"mp\"].idxmax()].reset_index(drop=True)"
   ]
  },
  {
   "cell_type": "markdown",
   "id": "983d0b0bc81bea16",
   "metadata": {},
   "source": [
    "### Resolving Name Conflicts in All-Star Data\n",
    "\n",
    "Since the All-Star selections file does not include `player_id`, players with the same name in the same season could be misclassified. We check for these name collisions and confirm whether any conflicting names could lead to incorrect All-Star labeling."
   ]
  },
  {
   "cell_type": "code",
   "execution_count": 9,
   "id": "91fca9131d373858",
   "metadata": {
    "ExecuteTime": {
     "end_time": "2025-05-10T19:14:17.659324Z",
     "start_time": "2025-05-10T19:14:17.647494Z"
    }
   },
   "outputs": [
    {
     "name": "stdout",
     "output_type": "stream",
     "text": [
      "season  player         \n",
      "1979    George Johnson     2\n",
      "1980    George Johnson     2\n",
      "1981    George Johnson     2\n",
      "1982    Eddie Johnson      2\n",
      "        George Johnson     2\n",
      "1983    Eddie Johnson      2\n",
      "        George Johnson     2\n",
      "1984    Eddie Johnson      2\n",
      "1985    Charles Jones      2\n",
      "        Eddie Johnson      2\n",
      "        George Johnson     2\n",
      "1986    Charles Jones      2\n",
      "        Eddie Johnson      2\n",
      "        George Johnson     2\n",
      "1987    Eddie Johnson      2\n",
      "1988    Charles Jones      2\n",
      "1989    Charles Jones      2\n",
      "1990    Charles Smith      2\n",
      "1991    Charles Smith      2\n",
      "1995    Michael Smith      2\n",
      "1996    Charles Smith      2\n",
      "2008    Marcus Williams    2\n",
      "2009    Marcus Williams    2\n",
      "2013    Chris Johnson      2\n",
      "2014    Tony Mitchell      2\n",
      "Name: player_id, dtype: int64 \n",
      "\n",
      "              player  season\n",
      "1086  Eddie Johnson    1981\n",
      "1113  Eddie Johnson    1980\n"
     ]
    }
   ],
   "source": [
    "# check for players of the same name playing in the same season\n",
    "name_id_check = players.groupby([\"season\", \"player\"])[\"player_id\"].nunique()\n",
    "conflicts = name_id_check[name_id_check > 1]\n",
    "\n",
    "# check if conflicting player names are included in all-star list\n",
    "conflict_names = conflicts.index.get_level_values(\"player\").unique()\n",
    "conflict_all_stars = all_stars[all_stars[\"player\"].isin(conflict_names)]\n",
    "\n",
    "print(conflicts, '\\n\\n', conflict_all_stars)"
   ]
  },
  {
   "cell_type": "markdown",
   "id": "898f2f688f0a2c77",
   "metadata": {},
   "source": [
    "Fortunately, the only conflict involves two players named Eddie Johnson. The Eddie Johnson named to the All-Star team did so before the other Eddie Johnson entered the league, so no correction is needed."
   ]
  },
  {
   "cell_type": "markdown",
   "id": "0192e424-ae6e-4ba5-b626-f96955dfa52c",
   "metadata": {},
   "source": [
    "### Checking for Missing Player-Seasons\n",
    "\n",
    "We now check whether there are any All-Star selections for player-seasons that do not exist in our player stats dataset."
   ]
  },
  {
   "cell_type": "code",
   "execution_count": 10,
   "id": "c3e8b23244512a4b",
   "metadata": {
    "ExecuteTime": {
     "end_time": "2025-05-10T19:14:43.994443Z",
     "start_time": "2025-05-10T19:14:43.986099Z"
    }
   },
   "outputs": [
    {
     "name": "stdout",
     "output_type": "stream",
     "text": [
      "{(1992, 'Magic Johnson')}\n"
     ]
    }
   ],
   "source": [
    "# create sets of player-season pairs and print the all_star -> player difference\n",
    "player_keys = set(zip(players['season'], players['player']))\n",
    "all_star_keys = set(zip(all_stars['season'], all_stars['player']))\n",
    "missing = all_star_keys - player_keys\n",
    "\n",
    "print(missing)"
   ]
  },
  {
   "cell_type": "markdown",
   "id": "b01382a542d94d52",
   "metadata": {},
   "source": [
    "### Special Case: Magic Johnson in 1992\n",
    "\n",
    "In 1992, Magic Johnson was selected to the All-Star Game despite retiring prior to the season due to his HIV diagnosis. While this was an iconic moment in NBA history, it does not reflect typical season performance and would distort our model. We'll remove this record from the All-Star selections."
   ]
  },
  {
   "cell_type": "code",
   "execution_count": 11,
   "id": "6c532509f47ae81e",
   "metadata": {
    "ExecuteTime": {
     "end_time": "2025-05-10T19:32:20.714954Z",
     "start_time": "2025-05-10T19:32:20.711308Z"
    }
   },
   "outputs": [],
   "source": [
    "# remove Magic's 1992 All-Star appearance\n",
    "all_stars = all_stars[~((all_stars['season'] == 1992) & (all_stars['player'] == 'Magic Johnson'))]"
   ]
  },
  {
   "cell_type": "markdown",
   "id": "1f30876988d1e980",
   "metadata": {},
   "source": [
    "### Merging Data Sources\n",
    "\n",
    "With all datasets cleaned and aligned, we now merge player and team data to create a single modeling-ready dataset. We also generate the binary `all_star` target column based on the cleaned All-Star selections."
   ]
  },
  {
   "cell_type": "code",
   "execution_count": 12,
   "id": "0f83fa74-55d7-474a-8116-979a11d64b30",
   "metadata": {},
   "outputs": [],
   "source": [
    "# create a clean, merged dataframe by adding team wins to each player-season\n",
    "clean_data = players.merge(\n",
    "    teams[['season', 'abbreviation', 'w']],\n",
    "    left_on=['season', 'tm'],\n",
    "    right_on=['season', 'abbreviation'],\n",
    "    how='left'\n",
    ").drop(columns='abbreviation')"
   ]
  },
  {
   "cell_type": "code",
   "execution_count": 13,
   "id": "c3a78d57-2b2f-4889-971f-2107c9d78cdb",
   "metadata": {
    "scrolled": true
   },
   "outputs": [],
   "source": [
    "# add all_star column and populate (1 if player-season resulted in All-Star selection else 0)\n",
    "all_star_set = set(zip(all_stars['season'], all_stars['player']))\n",
    "clean_data['all_star'] = clean_data.apply(\n",
    "    lambda row: 1 if (row['season'], row['player']) in all_star_set else 0,\n",
    "    axis=1\n",
    ")"
   ]
  },
  {
   "cell_type": "markdown",
   "id": "ca949181-936b-43bd-80b5-eeea44dc9e38",
   "metadata": {},
   "source": [
    "### Final Modeling Decisions\n",
    "\n",
    "Before exporting the final data, we make a few decisions about which features to keep and how to represent them:\n",
    "- **Season totals** are used instead of per-game stats, as they better reflect a player's full-season impact.\n",
    "- **Shooting percentages** are excluded since they can be calculated from other columns and would be redundant.\n",
    "- The **`tm`** column (team) is retained and one-hot encoded, as market and media presence may influence fan and coach voting.\n",
    "- The **`season`** column is kept to provide historical context, acknowledging that All-Star criteria may shift over time."
   ]
  },
  {
   "cell_type": "code",
   "execution_count": 14,
   "id": "8b2ed656-07bf-4472-bf00-66e5d9e55e28",
   "metadata": {},
   "outputs": [],
   "source": [
    "# drop irrelevant columns for modeling and encode team\n",
    "X = clean_data.drop(columns=['player', 'player_id', 'all_star'])\n",
    "X = pd.get_dummies(X, columns=['tm'], drop_first=True)\n",
    "\n",
    "# set target\n",
    "y = clean_data['all_star']"
   ]
  },
  {
   "cell_type": "markdown",
   "id": "c9e08cbb-a09b-47e3-956b-dcaa25ff7333",
   "metadata": {},
   "source": [
    "Now we just need to save our data so we'll have nice, clean data for use in our modeling notebook."
   ]
  },
  {
   "cell_type": "code",
   "execution_count": 16,
   "id": "74452749-f3e0-476b-9e3b-1084d64ce6a3",
   "metadata": {},
   "outputs": [],
   "source": [
    "# save dataframes as pickle in the clean folder\n",
    "X.to_pickle('../data/clean/X_data.pkl')\n",
    "y.to_pickle('../data/clean/y_data.pkl')\n",
    "\n",
    "# also keeping clean_data as a csv for reference in case I want to inspect the data manually in excel (for instance)\n",
    "clean_data.to_csv('../data/clean/clean_data_reference.csv', index=False)"
   ]
  },
  {
   "cell_type": "code",
   "execution_count": null,
   "id": "f531c72c-0b20-4bc6-9cce-2481c3ba2da1",
   "metadata": {},
   "outputs": [],
   "source": []
  }
 ],
 "metadata": {
  "kernelspec": {
   "display_name": "Python 3 (ipykernel)",
   "language": "python",
   "name": "python3"
  },
  "language_info": {
   "codemirror_mode": {
    "name": "ipython",
    "version": 3
   },
   "file_extension": ".py",
   "mimetype": "text/x-python",
   "name": "python",
   "nbconvert_exporter": "python",
   "pygments_lexer": "ipython3",
   "version": "3.10.16"
  }
 },
 "nbformat": 4,
 "nbformat_minor": 5
}
